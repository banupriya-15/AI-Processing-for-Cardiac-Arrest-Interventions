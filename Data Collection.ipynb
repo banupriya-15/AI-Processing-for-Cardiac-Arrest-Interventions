{
 "cells": [
  {
   "cell_type": "markdown",
   "metadata": {},
   "source": [
    "## Missing cases between slope calculation and whole part data and filtering all cases with Etco2"
   ]
  },
  {
   "cell_type": "code",
   "execution_count": 59,
   "metadata": {},
   "outputs": [
    {
     "name": "stdout",
     "output_type": "stream",
     "text": [
      "Cases present in 'part etco2' and missing in 'slope etco2':\n",
      "      caseid\n",
      "0      10192\n",
      "21     16343\n",
      "32     23067\n",
      "38     25192\n",
      "39     25205\n",
      "...      ...\n",
      "1526  175748\n",
      "1528  175846\n",
      "1529  175912\n",
      "1538  177179\n",
      "1540  177409\n",
      "\n",
      "[370 rows x 1 columns]\n",
      "\n",
      "Total number of missing cases: 370\n"
     ]
    }
   ],
   "source": [
    "import pandas as pd\n",
    "\n",
    "# Load the two sheets into separate DataFrames\n",
    "sheet1 = pd.read_excel(\"Missing etco2 find.xlsx\", sheet_name=\"slope etco2\")\n",
    "sheet2 = pd.read_excel(\"Missing etco2 find.xlsx\", sheet_name=\"part etco2\")\n",
    "\n",
    "# Assuming the column to compare is named 'caseid' in both sheets\n",
    "missing_cases = sheet2[~sheet2['caseid'].isin(sheet1['caseid'])]\n",
    "\n",
    "# Display the missing cases\n",
    "print(\"Cases present in 'part etco2' and missing in 'slope etco2':\")\n",
    "print(missing_cases)\n",
    "\n",
    "# Display the total number of missing cases\n",
    "total_missing = missing_cases.shape[0]\n",
    "print(f\"\\nTotal number of missing cases: {total_missing}\")\n",
    "\n",
    "# Optionally, save the result to a new Excel file\n",
    "missing_cases.to_excel(\"missing_cases.xlsx\", index=False)\n"
   ]
  },
  {
   "cell_type": "markdown",
   "metadata": {},
   "source": [
    "\"Missing cases\" file has cases which were missed out of slope calculation"
   ]
  },
  {
   "cell_type": "code",
   "execution_count": 58,
   "metadata": {},
   "outputs": [
    {
     "name": "stdout",
     "output_type": "stream",
     "text": [
      "Cleaned 'part etco2' data (with at least one non-empty etco2 value per caseid):\n",
      "       caseid  time     start       end      etco2\n",
      "71      10192   -28  17:55:53  17:56:53        NaN\n",
      "72      10192   -27  17:56:53  17:57:53        NaN\n",
      "73      10192   -26  17:57:53  17:58:53        NaN\n",
      "74      10192   -25  17:58:53  17:59:53        NaN\n",
      "75      10192   -24  17:59:53  18:00:53        NaN\n",
      "...       ...   ...       ...       ...        ...\n",
      "63241  177413    -5  21:30:53  21:31:53  12.682617\n",
      "63242  177413    -4  21:31:53  21:32:53  13.308594\n",
      "63243  177413    -3  21:32:53  21:33:53  12.922656\n",
      "63244  177413    -2  21:33:53  21:34:53  12.886719\n",
      "63245  177413    -1  21:34:53  21:35:53  12.435547\n",
      "\n",
      "[48918 rows x 5 columns]\n"
     ]
    }
   ],
   "source": [
    "import pandas as pd\n",
    "\n",
    "# Load the 'part etco2' sheet into a DataFrame\n",
    "sheet2 = pd.read_excel(\"Missing etco2 find.xlsx\", sheet_name=\"part etco2\")\n",
    "\n",
    "# Group by 'caseid' and check if each group has any non-empty 'etco2' value\n",
    "caseid_with_etco2 = sheet2.groupby('caseid')['etco2'].transform(lambda x: x.notna().any())\n",
    "\n",
    "# Filter the DataFrame to keep only the caseids that have at least one non-empty 'etco2' value\n",
    "sheet2_cleaned = sheet2[caseid_with_etco2]\n",
    "\n",
    "# Display the cleaned data\n",
    "print(\"Cleaned 'part etco2' data (with at least one non-empty etco2 value per caseid):\")\n",
    "print(sheet2_cleaned)\n",
    "\n",
    "# Optionally, save the cleaned data to a new Excel file\n",
    "sheet2_cleaned.to_excel(\"part_etco2_cleaned.xlsx\", index=False)\n",
    "\n"
   ]
  },
  {
   "cell_type": "markdown",
   "metadata": {},
   "source": [
    "- Step 1: Merging new Epineprine and all PART EtCO2 values\n",
    "- Step 2: have demographoics sheet too with the merged file.\n",
    "- Step 3: create a copy of the file and start working on visualizations and correlation\n"
   ]
  },
  {
   "cell_type": "code",
   "execution_count": 86,
   "metadata": {},
   "outputs": [
    {
     "name": "stdout",
     "output_type": "stream",
     "text": [
      "Merged data saved to merged_epi_etco2_work.xlsx\n"
     ]
    }
   ],
   "source": [
    "import pandas as pd\n",
    "\n",
    "# Load the two sheets from the Excel file\n",
    "file_path = 'epi_etco2_work.xlsx'\n",
    "\n",
    "# Load 'epifirst' sheet which contains caseid and first epinephrine time\n",
    "epifirst_df = pd.read_excel(file_path, sheet_name='epifirst')\n",
    "\n",
    "# Load 'epimul' sheet which contains caseid and multiple epinephrine times\n",
    "epimul_df = pd.read_excel(file_path, sheet_name='epimul')\n",
    "\n",
    "# Perform the merge\n",
    "# 'outer' merge ensures that caseids from both sheets are retained.\n",
    "merged_df = pd.merge(epifirst_df, epimul_df, on='caseId', how='outer')\n",
    "\n",
    "# Save the merged result to a new file or continue processing\n",
    "output_path = 'merged_epi_etco2_work.xlsx'\n",
    "merged_df.to_excel(output_path, index=False)\n",
    "\n",
    "print(f\"Merged data saved to {output_path}\")\n"
   ]
  },
  {
   "cell_type": "code",
   "execution_count": 87,
   "metadata": {},
   "outputs": [
    {
     "name": "stdout",
     "output_type": "stream",
     "text": [
      "Updated data saved to updated_merged_epi_etco2_work.xlsx\n"
     ]
    }
   ],
   "source": [
    "import pandas as pd\n",
    "\n",
    "# Load the merged data from the previous step\n",
    "merged_file_path = 'merged_epi_etco2_work.xlsx'\n",
    "merged_df = pd.read_excel(merged_file_path)\n",
    "\n",
    "# Replace values in epivasoalntm with epi1 if both are present\n",
    "merged_df['epivasoalntm'] = merged_df.apply(\n",
    "    lambda row: row['epi1'] if pd.notna(row['epi1']) else row['epivasoalntm'], axis=1\n",
    ")\n",
    "\n",
    "# Save the updated result to a new file\n",
    "output_path = 'updated_merged_epi_etco2_work.xlsx'\n",
    "merged_df.to_excel(output_path, index=False)\n",
    "\n",
    "print(f\"Updated data saved to {output_path}\")"
   ]
  },
  {
   "cell_type": "code",
   "execution_count": 109,
   "metadata": {},
   "outputs": [
    {
     "name": "stdout",
     "output_type": "stream",
     "text": [
      "Updated epinephrine times for epi1 with seconds saved to 'updated_merged_epi_etco2_with_seconds_epi1.xlsx'.\n"
     ]
    }
   ],
   "source": [
    "import pandas as pd\n",
    "\n",
    "# Load Epinephrine data from Excel\n",
    "epi_df = pd.read_excel('updated_merged_epi_etco2_work.xlsx')\n",
    "\n",
    "# Define a function to add \":00\" to time strings in epi1 that only have HH:MM\n",
    "def add_seconds_if_missing(time_str):\n",
    "    if pd.isna(time_str):\n",
    "        return time_str\n",
    "    time_str = str(time_str)\n",
    "    if len(time_str) == 5:  # If the format is HH:MM\n",
    "        return time_str + ':00'\n",
    "    return time_str\n",
    "\n",
    "# Apply the function to the epi1 column\n",
    "epi_df['epi1'] = epi_df['epi1'].apply(add_seconds_if_missing)\n",
    "\n",
    "# Convert the updated epi1 times to datetime format with error handling\n",
    "epi_df['epi1'] = pd.to_datetime(epi_df['epi1'], format='%H:%M:%S', errors='coerce').dt.time\n",
    "\n",
    "# Save the updated dataframe back to an Excel file\n",
    "epi_df.to_excel('updated_merged_epi_etco2_with_seconds_epi1.xlsx', index=False)\n",
    "\n",
    "print(\"Updated epinephrine times for epi1 with seconds saved to 'updated_merged_epi_etco2_with_seconds_epi1.xlsx'.\")\n"
   ]
  },
  {
   "cell_type": "markdown",
   "metadata": {},
   "source": [
    "## Now we merged all the epinephrine values"
   ]
  },
  {
   "cell_type": "markdown",
   "metadata": {},
   "source": [
    "Step 1:"
   ]
  },
  {
   "cell_type": "markdown",
   "metadata": {},
   "source": [
    "Filter records which has EtCO2 values.\n",
    "\n",
    " we will directly compare the epinephrine times with the start and end times in your ETCO₂ data without melting the epinephrine data. We'll iterate over the rows and match each epinephrine time to the correct ETCO₂ time interval.\n",
    "\n"
   ]
  },
  {
   "cell_type": "markdown",
   "metadata": {},
   "source": [
    "Step 2: Convert Times to Datetime Format\n",
    "Ensure that the time columns are in the datetime format for accurate comparisons."
   ]
  },
  {
   "cell_type": "code",
   "execution_count": 113,
   "metadata": {},
   "outputs": [
    {
     "name": "stderr",
     "output_type": "stream",
     "text": [
      "C:\\Users\\raya06\\AppData\\Local\\Temp\\2\\ipykernel_7000\\2213206541.py:10: UserWarning: Could not infer format, so each element will be parsed individually, falling back to `dateutil`. To ensure parsing is consistent and as-expected, please specify a format.\n",
      "  etco2_df['start'] = pd.to_datetime(etco2_df['start']).dt.time\n",
      "C:\\Users\\raya06\\AppData\\Local\\Temp\\2\\ipykernel_7000\\2213206541.py:11: UserWarning: Could not infer format, so each element will be parsed individually, falling back to `dateutil`. To ensure parsing is consistent and as-expected, please specify a format.\n",
      "  etco2_df['end'] = pd.to_datetime(etco2_df['end']).dt.time\n"
     ]
    },
    {
     "name": "stdout",
     "output_type": "stream",
     "text": [
      "ETCO₂ and Epinephrine data loaded and time columns converted.\n",
      "Number of unique caseids in ETCO₂ data: 1542\n",
      "Number of unique caseids in Epinephrine data: 2722\n",
      "Number of common caseids in both ETCO₂ and Epinephrine data: 1499\n",
      "Count of patient IDs present in Epinephrine but missing in ETCO₂: 1223\n",
      "Patient IDs saved to 'missing_in_etco2.xlsx'.\n"
     ]
    }
   ],
   "source": [
    "import pandas as pd\n",
    "\n",
    "# Load ETCO₂ data from Excel\n",
    "etco2_df = pd.read_excel('part_etco2_work1.xlsx')\n",
    "\n",
    "# Load Epinephrine data from Excel\n",
    "epi_df = pd.read_excel('final_epi_input.xlsx')\n",
    "\n",
    "# Convert the start and end times in ETCO₂ data to time-only format\n",
    "etco2_df['start'] = pd.to_datetime(etco2_df['start']).dt.time\n",
    "etco2_df['end'] = pd.to_datetime(etco2_df['end']).dt.time\n",
    "\n",
    "# Convert epinephrine times to time-only format for each epi column\n",
    "for col in epi_df.columns[1:]:  # Skip the first column (caseid or patientId)\n",
    "    epi_df[col] = pd.to_datetime(epi_df[col], format='%H:%M:%S', errors='coerce').dt.time\n",
    "\n",
    "# At this point, etco2_df and epi_df contain properly formatted time columns\n",
    "print(\"ETCO₂ and Epinephrine data loaded and time columns converted.\")\n",
    "\n",
    "# Find the patient IDs present in Epinephrine data but missing in ETCO₂ data\n",
    "uncommon_in_epi = set(epi_df['patientId']).difference(set(etco2_df['patientId']))\n",
    "\n",
    "# Filter epi_df to only include the caseids that are missing in ETCO₂\n",
    "missing_in_etco2_df = epi_df[epi_df['patientId'].isin(uncommon_in_epi)]\n",
    "\n",
    "# Count the number of patient IDs missing in ETCO₂\n",
    "missing_in_etco2_count = missing_in_etco2_df['patientId'].nunique()\n",
    "\n",
    "# Save the result to an Excel file\n",
    "missing_in_etco2_df.to_excel('missing_in_etco2.xlsx', index=False)\n",
    "\n",
    "\n",
    "# Print the unique number of caseids in both DataFrames\n",
    "etco2_unique_caseids = etco2_df['patientId'].nunique()\n",
    "epi_unique_caseids = epi_df['patientId'].nunique()\n",
    "\n",
    "print(f\"Number of unique caseids in ETCO₂ data: {etco2_unique_caseids}\")\n",
    "print(f\"Number of unique caseids in Epinephrine data: {epi_unique_caseids}\")\n",
    "\n",
    "\n",
    "# Find the common patient IDs\n",
    "common_caseids = set(etco2_df['patientId']).intersection(set(epi_df['patientId']))\n",
    "\n",
    "# Print the count of common patient IDs\n",
    "common_caseids_count = len(common_caseids)\n",
    "\n",
    "print(f\"Number of common caseids in both ETCO₂ and Epinephrine data: {common_caseids_count}\")\n",
    "\n",
    "# Print the count\n",
    "print(f\"Count of patient IDs present in Epinephrine but missing in ETCO₂: {missing_in_etco2_count}\")\n",
    "print(f\"Patient IDs saved to 'missing_in_etco2.xlsx'.\")"
   ]
  },
  {
   "cell_type": "markdown",
   "metadata": {},
   "source": [
    "Step 3: Match Epinephrine Times to ETCO₂ Intervals\n",
    "We will iterate through the ETCO₂ dataframe and check if any of the epinephrine times fall within the start and end times for the same patient."
   ]
  },
  {
   "cell_type": "code",
   "execution_count": 115,
   "metadata": {},
   "outputs": [],
   "source": [
    "# Create a new column to store matched epinephrine times\n",
    "etco2_df['epi_time'] = None\n",
    "\n",
    "# Iterate over the ETCO₂ rows\n",
    "for i, etco2_row in etco2_df.iterrows():\n",
    "    patient_id = etco2_row['patientId']\n",
    "    start_time = etco2_row['start']\n",
    "    end_time = etco2_row['end']\n",
    "    \n",
    "    # Find the corresponding patient in the epinephrine dataframe\n",
    "    epi_times = epi_df[epi_df['patientId'] == patient_id]\n",
    "    \n",
    "    # Check if epi_times is not empty\n",
    "    if not epi_times.empty:\n",
    "        # Check each epinephrine time to see if it falls within the start and end times\n",
    "        for col in epi_df.columns[1:]:  # Skip the first column (patientId)\n",
    "            epi_time = epi_times[col].values[0]  # Get the epi time for this column\n",
    "            if pd.notna(epi_time) and start_time <= epi_time <= end_time:\n",
    "                etco2_df.at[i, 'epi_time'] = epi_time\n",
    "                break  # Stop after finding the first match\n",
    "\n",
    "# Save the result to a CSV file\n",
    "etco2_df.to_excel('matched_etco2_epinephrine.xlsx', index=False)"
   ]
  },
  {
   "cell_type": "code",
   "execution_count": 116,
   "metadata": {},
   "outputs": [
    {
     "name": "stdout",
     "output_type": "stream",
     "text": [
      "Patient IDs with ETCO₂ values and at least one epinephrine value: [ 10192  10267  10279 ... 177271 177409 177413]\n",
      "Count of unique patient IDs: 1447\n"
     ]
    }
   ],
   "source": [
    "\n",
    "# Filter the rows where both etco2 values and at least one epi_time are present\n",
    "filtered_df = etco2_df[etco2_df['epi_time'].notna()]\n",
    "\n",
    "# Get the unique patient IDs with both etco2 values and at least one epinephrine value\n",
    "patient_ids_with_etco2_and_epi = filtered_df['patientId'].unique()\n",
    "\n",
    "# Get the count of unique patient IDs\n",
    "unique_patient_count = filtered_df['patientId'].nunique()\n",
    "\n",
    "# Save the filtered data to an Excel file\n",
    "filtered_df.to_excel('filtered_etco2_with_epi.xlsx', index=False)\n",
    "\n",
    "# Output the patient IDs and the unique count\n",
    "print(f\"Patient IDs with ETCO₂ values and at least one epinephrine value: {patient_ids_with_etco2_and_epi}\")\n",
    "print(f\"Count of unique patient IDs: {unique_patient_count}\")"
   ]
  },
  {
   "cell_type": "markdown",
   "metadata": {},
   "source": [
    "Filtering files whoch have both etco2 and epi values"
   ]
  },
  {
   "cell_type": "markdown",
   "metadata": {},
   "source": [
    "Third Assumption: In the has_etco2_with_epi_in_range function, we check whether the epi_time falls within the ETCO₂ time range or within 5 minutes before the start time"
   ]
  },
  {
   "cell_type": "code",
   "execution_count": 7,
   "metadata": {},
   "outputs": [
    {
     "name": "stdout",
     "output_type": "stream",
     "text": [
      "Filtered data saved to filtered_etco2_with_epi_in_range_minus_3min_plus_5min_final.xlsx\n",
      "Number of unique patient IDs in the filtered data: 705\n"
     ]
    }
   ],
   "source": [
    "import pandas as pd\n",
    "from datetime import timedelta\n",
    "\n",
    "# Load the processed data from the Excel file\n",
    "file_path = 'matched_etco2_epinephrine.xlsx'\n",
    "df = pd.read_excel(file_path, dtype={'start': str, 'end': str, 'epi_time': str})\n",
    "\n",
    "# Function to convert time strings to datetime.time\n",
    "def convert_to_time(value):\n",
    "    try:\n",
    "        return pd.to_datetime(value, format='%H:%M:%S', errors='coerce').time()\n",
    "    except:\n",
    "        return None\n",
    "\n",
    "# Apply conversion functions to the 'start', 'end', and 'epi_time' columns\n",
    "df['start'] = df['start'].apply(convert_to_time)\n",
    "df['end'] = df['end'].apply(convert_to_time)\n",
    "df['epi_time'] = df['epi_time'].apply(convert_to_time)\n",
    "\n",
    "# Function to convert time to seconds for easier comparison\n",
    "def time_to_seconds(t):\n",
    "    if pd.isnull(t):\n",
    "        return None\n",
    "    return t.hour * 3600 + t.minute * 60 + t.second\n",
    "\n",
    "# Step 1: Filter records that have more than 5 non-null ETCO₂ values\n",
    "def filter_non_null_etco2(group):\n",
    "    non_null_etco2 = group[group['etco2'].notna()]\n",
    "    if len(non_null_etco2) > 5:\n",
    "        return True\n",
    "    return False\n",
    "\n",
    "# Apply the filter for groups with more than 5 non-null ETCO₂ values\n",
    "valid_patient_ids_step1 = df.groupby('patientId').filter(filter_non_null_etco2)['patientId'].unique()\n",
    "\n",
    "# Filter the data to include only patient IDs with more than 5 non-null ETCO₂ values\n",
    "filtered_df_step1 = df[df['patientId'].isin(valid_patient_ids_step1)]\n",
    "\n",
    "# Step 2: Further filter the data to check if epi_time exists and if there are 5 non-null ETCO₂ values after epi_time\n",
    "def filter_etco2_after_epi_time(group):\n",
    "    non_null_etco2 = group[group['etco2'].notna()]\n",
    "    epi_time = group['epi_time'].dropna().unique()  # Find unique epi_time values\n",
    "\n",
    "    if len(epi_time) == 0:  # If no epi_time, skip this group\n",
    "        return False\n",
    "\n",
    "    epi_time = epi_time[0]  # Take the first epi_time if multiple are found\n",
    "    epi_seconds = time_to_seconds(epi_time)\n",
    "\n",
    "    # Filter for non-null ETCO₂ values after epi_time\n",
    "    etco2_after_epi = non_null_etco2[non_null_etco2['start'].apply(time_to_seconds) > epi_seconds]\n",
    "\n",
    "    # Check if there are at least 5 non-null ETCO₂ values after epi_time\n",
    "    if len(etco2_after_epi) >= 5:\n",
    "        return True\n",
    "    return False\n",
    "\n",
    "# Step 3: Filter records within -3 minutes and +5 minutes of epi_time\n",
    "def filter_etco2_within_custom_window(group):\n",
    "    non_null_etco2 = group[group['etco2'].notna()]\n",
    "    epi_time = group['epi_time'].dropna().unique()  # Find unique epi_time values\n",
    "\n",
    "    if len(epi_time) == 0:  # If no epi_time, skip this group\n",
    "        return False\n",
    "\n",
    "    epi_time = epi_time[0]  # Take the first epi_time if multiple are found\n",
    "    epi_seconds = time_to_seconds(epi_time)\n",
    "\n",
    "    # Define the time window: -3 minutes (180 seconds) and +5 minutes (300 seconds)\n",
    "    lower_bound = epi_seconds - 3 * 60\n",
    "    upper_bound = epi_seconds + 5 * 60\n",
    "\n",
    "    # Filter for non-null ETCO₂ values within the custom window of -3 to +5 minutes\n",
    "    etco2_within_window = non_null_etco2[non_null_etco2['start'].apply(time_to_seconds).between(lower_bound, upper_bound)]\n",
    "\n",
    "    # Check if there are more than 3 non-null ETCO₂ values within this time window\n",
    "    if len(etco2_within_window) >= 2:\n",
    "        return True\n",
    "    return False\n",
    "\n",
    "# Apply the third filter for groups with more than 3 non-null ETCO₂ values within -3 to +5 minutes of epi_time\n",
    "valid_patient_ids_step3 = filtered_df_step1.groupby('patientId').filter(filter_etco2_within_custom_window)['patientId'].unique()\n",
    "\n",
    "# Filter the original data to include only the valid patient IDs from all filters\n",
    "filtered_df_final = df[df['patientId'].isin(valid_patient_ids_step3)]\n",
    "\n",
    "# Get the number of unique patient IDs in the final filtered data\n",
    "unique_patient_count = filtered_df_final['patientId'].nunique()\n",
    "\n",
    "# Save the final filtered data to a new Excel file\n",
    "output_path = 'filtered_etco2_with_epi_in_range_minus_3min_plus_5min_final.xlsx'\n",
    "filtered_df_final.to_excel(output_path, index=False)\n",
    "\n",
    "print(f\"Filtered data saved to {output_path}\")\n",
    "print(f\"Number of unique patient IDs in the filtered data: {unique_patient_count}\")\n"
   ]
  },
  {
   "cell_type": "code",
   "execution_count": 8,
   "metadata": {},
   "outputs": [
    {
     "name": "stdout",
     "output_type": "stream",
     "text": [
      "Filtered data saved to filtered_etco2_with_epi_in_range_minus_3min_plus_5min_final_multiple_epitime.xlsx\n",
      "Number of unique patient IDs in the filtered data: 660\n"
     ]
    }
   ],
   "source": [
    "import pandas as pd\n",
    "from datetime import timedelta\n",
    "\n",
    "# Load the processed data from the Excel file\n",
    "file_path = 'matched_etco2_epinephrine.xlsx'\n",
    "df = pd.read_excel(file_path, dtype={'start': str, 'end': str, 'epi_time': str})\n",
    "\n",
    "# Function to convert time strings to datetime.time\n",
    "def convert_to_time(value):\n",
    "    try:\n",
    "        return pd.to_datetime(value, format='%H:%M:%S', errors='coerce').time()\n",
    "    except:\n",
    "        return None\n",
    "\n",
    "# Apply conversion functions to the 'start', 'end', and 'epi_time' columns\n",
    "df['start'] = df['start'].apply(convert_to_time)\n",
    "df['end'] = df['end'].apply(convert_to_time)\n",
    "df['epi_time'] = df['epi_time'].apply(convert_to_time)\n",
    "\n",
    "# Function to convert time to seconds for easier comparison\n",
    "def time_to_seconds(t):\n",
    "    if pd.isnull(t):\n",
    "        return None\n",
    "    return t.hour * 3600 + t.minute * 60 + t.second\n",
    "\n",
    "# Step 1: Filter records that have more than 5 non-null ETCO₂ values\n",
    "def filter_non_null_etco2(group):\n",
    "    non_null_etco2 = group[group['etco2'].notna()]\n",
    "    if len(non_null_etco2) > 5:\n",
    "        return True\n",
    "    return False\n",
    "\n",
    "# Apply the filter for groups with more than 5 non-null ETCO₂ values\n",
    "valid_patient_ids_step1 = df.groupby('patientId').filter(filter_non_null_etco2)['patientId'].unique()\n",
    "\n",
    "# Filter the data to include only patient IDs with more than 5 non-null ETCO₂ values\n",
    "filtered_df_step1 = df[df['patientId'].isin(valid_patient_ids_step1)]\n",
    "\n",
    "# Step 2: Filter records within -3 minutes and +5 minutes of epi_time\n",
    "def filter_etco2_within_custom_window(group):\n",
    "    non_null_etco2 = group[group['etco2'].notna()]\n",
    "    epi_times = group['epi_time'].dropna().unique()  # Find unique epi_time values\n",
    "\n",
    "    if len(epi_times) == 0:  # If no epi_time, skip this group\n",
    "        return False\n",
    "\n",
    "    for epi_time in epi_times:  # Iterate over all epi_times\n",
    "        epi_seconds = time_to_seconds(epi_time)\n",
    "\n",
    "        # Define the time window: -3 minutes (180 seconds) and +5 minutes (300 seconds)\n",
    "        lower_bound = epi_seconds - 3 * 60\n",
    "        upper_bound = epi_seconds + 5 * 60\n",
    "\n",
    "        # Filter for non-null ETCO₂ values within the custom window of -3 to +5 minutes\n",
    "        etco2_within_window = non_null_etco2[non_null_etco2['start'].apply(time_to_seconds).between(lower_bound, upper_bound)]\n",
    "\n",
    "        # If there are more than 3 non-null ETCO₂ values within this time window, include the patient\n",
    "        if len(etco2_within_window) >= 3:\n",
    "            return True\n",
    "\n",
    "    # If none of the epi_times meet the condition, exclude the patient\n",
    "    return False\n",
    "\n",
    "# Apply the third filter for groups with more than 3 non-null ETCO₂ values within -3 to +5 minutes of any epi_time\n",
    "valid_patient_ids_step3 = filtered_df_step1.groupby('patientId').filter(filter_etco2_within_custom_window)['patientId'].unique()\n",
    "\n",
    "# Filter the original data to include only the valid patient IDs from all filters\n",
    "filtered_df_final = df[df['patientId'].isin(valid_patient_ids_step3)]\n",
    "\n",
    "# Get the number of unique patient IDs in the final filtered data\n",
    "unique_patient_count = filtered_df_final['patientId'].nunique()\n",
    "\n",
    "# Save the final filtered data to a new Excel file\n",
    "output_path = 'filtered_etco2_with_epi_in_range_minus_3min_plus_5min_final_multiple_epitime.xlsx'\n",
    "filtered_df_final.to_excel(output_path, index=False)\n",
    "\n",
    "print(f\"Filtered data saved to {output_path}\")\n",
    "print(f\"Number of unique patient IDs in the filtered data: {unique_patient_count}\")\n"
   ]
  },
  {
   "cell_type": "markdown",
   "metadata": {},
   "source": [
    "Visualizing Etco2 values before combining new epinephrine values(Imputation)"
   ]
  },
  {
   "cell_type": "markdown",
   "metadata": {},
   "source": [
    "## Random plots"
   ]
  },
  {
   "cell_type": "code",
   "execution_count": 26,
   "metadata": {},
   "outputs": [
    {
     "name": "stdout",
     "output_type": "stream",
     "text": [
      "Random 10 plots saved in the folder: ETCO2_Plots\n"
     ]
    }
   ],
   "source": [
    "import os\n",
    "import pandas as pd\n",
    "import matplotlib.pyplot as plt\n",
    "\n",
    "# Load the filtered data from the main sheet\n",
    "filtered_df = pd.read_excel('filtered_etco2_with_epi_in_range_or_5min_non_continuous.xlsx', sheet_name='Sheet1')\n",
    "\n",
    "# Load the caseid and mnrosc data from the second sheet\n",
    "mnrosc_df = pd.read_excel('filtered_etco2_with_epi_in_range_or_5min_non_continuous.xlsx', sheet_name='Sheet2')\n",
    "\n",
    "# Convert start, end, and epi_time columns to time-only format\n",
    "filtered_df['start'] = pd.to_datetime(filtered_df['start'], format='%H:%M:%S').dt.time\n",
    "filtered_df['epi_time'] = pd.to_datetime(filtered_df['epi_time'], format='%H:%M:%S', errors='coerce').dt.time\n",
    "\n",
    "# Specify the folder where the images will be saved\n",
    "output_folder = 'ETCO2_Plots'\n",
    "\n",
    "# Create the folder if it doesn't exist\n",
    "if not os.path.exists(output_folder):\n",
    "    os.makedirs(output_folder)\n",
    "\n",
    "# Randomly select 10 patient IDs from the dataset\n",
    "top_patient_ids = filtered_df['patientId'].drop_duplicates().sample(n=10, random_state=42)\n",
    "\n",
    "# Plot ETCO₂ waveforms for the randomly selected patients and save them\n",
    "for patient_id in top_patient_ids:\n",
    "    patient_data = filtered_df[filtered_df['patientId'] == patient_id].reset_index(drop=True)\n",
    "    \n",
    "    # Match patient_id with caseid in mnrosc_df\n",
    "    mnrosc_value = mnrosc_df.loc[mnrosc_df['caseid'] == patient_id, 'mnrosc'].values\n",
    "    if len(mnrosc_value) > 0:\n",
    "        mnrosc_value = mnrosc_value[0]\n",
    "    else:\n",
    "        mnrosc_value = None\n",
    "    \n",
    "    # Determine the color based on mnrosc value\n",
    "    if mnrosc_value == 0:\n",
    "        line_color = 'blue'\n",
    "        mnrosc_label = 'mnrosc = 0'\n",
    "    elif mnrosc_value == 1:\n",
    "        line_color = 'green'\n",
    "        mnrosc_label = 'mnrosc = 1'\n",
    "    else:\n",
    "        line_color = 'gray'  # Default color if mnrosc is not found\n",
    "        mnrosc_label = 'mnrosc not found'\n",
    "    \n",
    "    # Create a time index based on the row number\n",
    "    time_index = patient_data.index\n",
    "    \n",
    "    # Plot the ETCO₂ values over the time index\n",
    "    plt.figure(figsize=(12, 6))\n",
    "    plt.plot(time_index, patient_data['etco2'], label=f'ETCO₂ Levels ({mnrosc_label})', color=line_color)\n",
    "    \n",
    "    # Mark the epinephrine time on the waveform\n",
    "    epi_times = patient_data[patient_data['epi_time'].notna()].index\n",
    "    for epi_time in epi_times:\n",
    "        plt.axvline(x=epi_time, color='red', linestyle='--', label='Epinephrine Given')\n",
    "    \n",
    "    plt.title(f'ETCO₂ Levels for Patient {patient_id}')\n",
    "    plt.xlabel('Time Index')\n",
    "    plt.ylabel('ETCO₂ Levels')\n",
    "    plt.legend()\n",
    "    plt.grid(True)\n",
    "    \n",
    "    # Save the plot to the specified folder with the patient ID as the filename\n",
    "    output_path = os.path.join(output_folder, f'Patient_{patient_id}.png')\n",
    "    plt.savefig(output_path)\n",
    "    \n",
    "    # Close the plot to free memory\n",
    "    plt.close()\n",
    "\n",
    "print(f\"Random 10 plots saved in the folder: {output_folder}\")\n"
   ]
  },
  {
   "cell_type": "markdown",
   "metadata": {},
   "source": [
    "## Top continuous plots"
   ]
  },
  {
   "cell_type": "code",
   "execution_count": 27,
   "metadata": {},
   "outputs": [
    {
     "name": "stdout",
     "output_type": "stream",
     "text": [
      "Plots saved in the folder: ETCO2_Plots_Top\n"
     ]
    }
   ],
   "source": [
    "import os\n",
    "import pandas as pd\n",
    "import matplotlib.pyplot as plt\n",
    "\n",
    "\n",
    "# Load the filtered data from the main sheet\n",
    "filtered_df = pd.read_excel('filtered_etco2_with_epi_in_range_or_5min_non_continuous.xlsx', sheet_name='Sheet1')\n",
    "\n",
    "# Load the caseid and mnrosc data from the second sheet\n",
    "mnrosc_df = pd.read_excel('filtered_etco2_with_epi_in_range_or_5min_non_continuous.xlsx', sheet_name='Sheet2')\n",
    "\n",
    "# Convert start, end, and epi_time columns to time-only format\n",
    "filtered_df['start'] = pd.to_datetime(filtered_df['start'], format='%H:%M:%S').dt.time\n",
    "filtered_df['epi_time'] = pd.to_datetime(filtered_df['epi_time'], format='%H:%M:%S', errors='coerce').dt.time\n",
    "\n",
    "# Specify the folder where the images will be saved\n",
    "output_folder = 'ETCO2_Plots_Top'\n",
    "\n",
    "# Create the folder if it doesn't exist\n",
    "if not os.path.exists(output_folder):\n",
    "    os.makedirs(output_folder)\n",
    "\n",
    "# Plot ETCO₂ waveforms for the top patients and save them\n",
    "for patient_id in top_patient_ids:\n",
    "    patient_data = filtered_df[filtered_df['patientId'] == patient_id].reset_index(drop=True)\n",
    "    \n",
    "    # Match patient_id with caseid in mnrosc_df\n",
    "    mnrosc_value = mnrosc_df.loc[mnrosc_df['caseid'] == patient_id, 'mnrosc'].values\n",
    "    if len(mnrosc_value) > 0:\n",
    "        mnrosc_value = mnrosc_value[0]\n",
    "    else:\n",
    "        mnrosc_value = None\n",
    "    \n",
    "    # Determine the color based on mnrosc value\n",
    "    if mnrosc_value == 0:\n",
    "        line_color = 'blue'\n",
    "        mnrosc_label = 'mnrosc = 0'\n",
    "    elif mnrosc_value == 1:\n",
    "        line_color = 'green'\n",
    "        mnrosc_label = 'mnrosc = 1'\n",
    "    else:\n",
    "        line_color = 'gray'  # Default color if mnrosc is not found\n",
    "        mnrosc_label = 'mnrosc not found'\n",
    "    \n",
    "    # Create a time index based on the row number\n",
    "    time_index = patient_data.index\n",
    "    \n",
    "    # Plot the ETCO₂ values over the time index\n",
    "    plt.figure(figsize=(12, 6))\n",
    "    plt.plot(time_index, patient_data['etco2'], label=f'ETCO₂ Levels ({mnrosc_label})', color=line_color)\n",
    "    \n",
    "    # Mark the epinephrine time on the waveform\n",
    "    epi_times = patient_data[patient_data['epi_time'].notna()].index\n",
    "    for epi_time in epi_times:\n",
    "        plt.axvline(x=epi_time, color='red', linestyle='--', label='Epinephrine Given')\n",
    "    \n",
    "    plt.title(f'ETCO₂ Levels for Patient {patient_id}')\n",
    "    plt.xlabel('Time Index')\n",
    "    plt.ylabel('ETCO₂ Levels')\n",
    "    plt.legend()\n",
    "    plt.grid(True)\n",
    "    \n",
    "    # Save the plot to the specified folder with the patient ID as the filename\n",
    "    output_path = os.path.join(output_folder, f'ETCO2_Patient_{patient_id}.png')\n",
    "    plt.savefig(output_path)\n",
    "    \n",
    "    # Close the plot to free memory\n",
    "    plt.close()\n",
    "\n",
    "print(f\"Plots saved in the folder: {output_folder}\")\n"
   ]
  }
 ],
 "metadata": {
  "kernelspec": {
   "display_name": "base",
   "language": "python",
   "name": "python3"
  },
  "language_info": {
   "codemirror_mode": {
    "name": "ipython",
    "version": 3
   },
   "file_extension": ".py",
   "mimetype": "text/x-python",
   "name": "python",
   "nbconvert_exporter": "python",
   "pygments_lexer": "ipython3",
   "version": "3.11.5"
  }
 },
 "nbformat": 4,
 "nbformat_minor": 2
}
